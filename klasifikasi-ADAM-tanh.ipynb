{
 "cells": [
  {
   "cell_type": "code",
   "execution_count": 1,
   "metadata": {},
   "outputs": [
    {
     "name": "stderr",
     "output_type": "stream",
     "text": [
      "C:\\Users\\drimamskom\\Anaconda2\\envs\\opencv36\\lib\\site-packages\\tqdm\\autonotebook\\__init__.py:18: TqdmExperimentalWarning: Using `tqdm.autonotebook.tqdm` in notebook mode. Use `tqdm.tqdm` instead to force console mode (e.g. in jupyter console)\n",
      "  \" (e.g. in jupyter console)\", TqdmExperimentalWarning)\n"
     ]
    }
   ],
   "source": [
    "import time\n",
    "import numpy as np \n",
    "import pandas as pd \n",
    "\n",
    "from sklearn import metrics\n",
    "from torchvision import transforms\n",
    "from torch.utils.data import DataLoader\n",
    "from torch.utils.data.dataset import Dataset\n",
    "import pandas as pd\n",
    "import numpy as np\n",
    "from torch.utils.data.sampler import SubsetRandomSampler\n",
    "import cv2\n",
    "import os\n",
    "import torchvision\n",
    "import shutil\n",
    "from torch.autograd import Variable\n",
    "import torch\n",
    "from torch import nn\n",
    "import torch.nn.functional as F\n",
    "import torchvision.models as models\n",
    "from torchsummary import summary\n",
    "from efficientnet_pytorch import EfficientNet\n",
    "import torch.optim as optim\n",
    "from tqdm.autonotebook import tqdm"
   ]
  },
  {
   "cell_type": "code",
   "execution_count": 2,
   "metadata": {},
   "outputs": [],
   "source": [
    "batch_size = 4\n",
    "im_size = 64"
   ]
  },
  {
   "cell_type": "code",
   "execution_count": 3,
   "metadata": {},
   "outputs": [
    {
     "data": {
      "application/vnd.jupyter.widget-view+json": {
       "model_id": "0a6d5dfd9b554fbe9d4caf791cda597c",
       "version_major": 2,
       "version_minor": 0
      },
      "text/plain": [
       "HBox(children=(IntProgress(value=0, max=153), HTML(value='')))"
      ]
     },
     "metadata": {},
     "output_type": "display_data"
    },
    {
     "name": "stdout",
     "output_type": "stream",
     "text": [
      "\n"
     ]
    }
   ],
   "source": [
    "def normalization_parameter(dataloader):\n",
    "    mean = 0.\n",
    "    std = 0.\n",
    "    nb_samples = len(dataloader.dataset)\n",
    "    for data,_ in tqdm(dataloader):\n",
    "        batch_samples = data.size(0)\n",
    "        data = data.view(batch_samples, data.size(1), -1)\n",
    "        mean += data.mean(2).sum(0)\n",
    "        std += data.std(2).sum(0)\n",
    "    mean /= nb_samples\n",
    "    std /= nb_samples\n",
    "    return mean.numpy(),std.numpy()\n",
    "im_size = 64\n",
    "train_transforms = transforms.Compose([\n",
    "                                        transforms.Resize((im_size,im_size)),\n",
    "                                        transforms.ToTensor()])\n",
    "train_data = torchvision.datasets.ImageFolder(root = 'E:/klasifikasi/spermatozoa_data/seg_train', transform = train_transforms)\n",
    "train_loader =  DataLoader(train_data, batch_size = batch_size , shuffle = True)\n",
    "mean,std = normalization_parameter(train_loader)"
   ]
  },
  {
   "cell_type": "code",
   "execution_count": 4,
   "metadata": {},
   "outputs": [],
   "source": [
    "train_transforms = transforms.Compose([\n",
    "                                        transforms.Resize((im_size,im_size)),\n",
    "                                        transforms.RandomResizedCrop(size=64, scale=(0.95, 1.0)),\n",
    "                                        transforms.RandomRotation(degrees=10),\n",
    "                                        transforms.RandomHorizontalFlip(),\n",
    "                                        transforms.CenterCrop(size=64),\n",
    "                                        transforms.ToTensor(),\n",
    "                                        transforms.Normalize(mean,std)])\n",
    "test_transforms = transforms.Compose([\n",
    "                                        transforms.Resize((im_size,im_size)),\n",
    "                                        transforms.ToTensor(),\n",
    "                                        transforms.Normalize(mean,std)])\n",
    "\n",
    "inv_normalize =  transforms.Normalize(\n",
    "    mean=-1*np.divide(mean,std),\n",
    "    std=1/std\n",
    ")"
   ]
  },
  {
   "cell_type": "code",
   "execution_count": 5,
   "metadata": {},
   "outputs": [],
   "source": [
    "def data_loader(train_data,test_data = None , valid_size = None , batch_size = 4):\n",
    "    train_loader =  DataLoader(train_data, batch_size = batch_size , shuffle = True)\n",
    "    if(test_data == None and valid_size == None):\n",
    "        dataloaders = {'train':train_loader}\n",
    "        return dataloaders\n",
    "    if(test_data == None and valid_size!=None):\n",
    "        data_len = len(train_data)\n",
    "        indices = list(range(data_len))\n",
    "        np.random.shuffle(indices)\n",
    "        split1 = int(np.floor(valid_size * data_len))\n",
    "        valid_idx , test_idx = indices[:split1], indices[split1:]\n",
    "        valid_sampler = SubsetRandomSampler(valid_idx)\n",
    "        valid_loader = DataLoader(train_data, batch_size= batch_size, sampler=valid_sampler)\n",
    "        dataloaders = {'train':train_loader,'val':valid_loader}\n",
    "        return dataloaders\n",
    "    if(test_data != None and valid_size!=None):\n",
    "        data_len = len(test_data)\n",
    "        indices = list(range(data_len))\n",
    "        np.random.shuffle(indices)\n",
    "        split1 = int(np.floor(valid_size * data_len))\n",
    "        valid_idx , test_idx = indices[:split1], indices[split1:]\n",
    "        valid_sampler = SubsetRandomSampler(valid_idx)\n",
    "        test_sampler = SubsetRandomSampler(test_idx)\n",
    "        valid_loader = DataLoader(test_data, batch_size= batch_size, sampler=valid_sampler)\n",
    "        test_loader = DataLoader(test_data, batch_size= batch_size, sampler=test_sampler)\n",
    "        dataloaders = {'train':train_loader,'val':valid_loader,'test':test_loader}\n",
    "        return dataloaders"
   ]
  },
  {
   "cell_type": "code",
   "execution_count": 6,
   "metadata": {},
   "outputs": [],
   "source": [
    "#data loader\n",
    "train_data = torchvision.datasets.ImageFolder(root = 'E:/klasifikasi//spermatozoa_data/seg_train', transform = train_transforms)\n",
    "test_data = torchvision.datasets.ImageFolder(root = 'E:/klasifikasi//spermatozoa_data/seg_test', transform = test_transforms)\n",
    "dataloaders = data_loader(train_data,test_data , valid_size = 0.2 , batch_size = batch_size)\n",
    "#label klasifikasi\n",
    "classes = train_data.classes\n",
    "#encoder dan decoder konversi klasifikasi ke integer\n",
    "decoder = {}\n",
    "for i in range(len(classes)):\n",
    "    decoder[classes[i]] = i\n",
    "encoder = {}\n",
    "for i in range(len(classes)):\n",
    "    encoder[i] = classes[i]"
   ]
  },
  {
   "cell_type": "code",
   "execution_count": 7,
   "metadata": {},
   "outputs": [
    {
     "name": "stdout",
     "output_type": "stream",
     "text": [
      "['abnormal', 'normal']\n"
     ]
    }
   ],
   "source": [
    "print(classes)"
   ]
  },
  {
   "cell_type": "code",
   "execution_count": 8,
   "metadata": {},
   "outputs": [
    {
     "name": "stdout",
     "output_type": "stream",
     "text": [
      "<class 'torch.Tensor'>\n",
      "<class 'torch.Tensor'>\n",
      "<class 'torch.Tensor'>\n",
      "<class 'torch.Tensor'>\n",
      "<class 'torch.Tensor'>\n",
      "<class 'torch.Tensor'>\n",
      "<class 'torch.Tensor'>\n",
      "<class 'torch.Tensor'>\n",
      "<class 'torch.Tensor'>\n",
      "<class 'torch.Tensor'>\n",
      "<class 'torch.Tensor'>\n",
      "<class 'torch.Tensor'>\n"
     ]
    },
    {
     "data": {
      "text/plain": [
       "<Figure size 1400x1000 with 12 Axes>"
      ]
     },
     "metadata": {},
     "output_type": "display_data"
    }
   ],
   "source": [
    "import matplotlib.pyplot as plt\n",
    "import random\n",
    "\n",
    "def class_plot(data , encoder ,inv_normalize = None,n_figures = 12):\n",
    "    n_row = int(n_figures/4)\n",
    "    fig,axes = plt.subplots(figsize=(14, 10), nrows = n_row, ncols=4)\n",
    "    for ax in axes.flatten():\n",
    "        a = random.randint(0,len(data))\n",
    "        (image,label) = data[a]\n",
    "        print(type(image))\n",
    "        label = int(label)\n",
    "        l = encoder[label]\n",
    "        if(inv_normalize!=None):\n",
    "            image = inv_normalize(image)\n",
    "        \n",
    "        image = image.numpy().transpose(1,2,0)\n",
    "        im = ax.imshow(image)\n",
    "        ax.set_title(l)\n",
    "        ax.axis('off')\n",
    "    plt.show()\n",
    "class_plot(train_data,encoder,inv_normalize)"
   ]
  },
  {
   "cell_type": "code",
   "execution_count": 9,
   "metadata": {},
   "outputs": [],
   "source": [
    "class Classifier(nn.Module):\n",
    "    def __init__(self):\n",
    "        super(Classifier, self).__init__()\n",
    "        self.conv1 = nn.Conv2d(in_channels = 3, out_channels = 32, kernel_size = 3, stride = 1, padding = 1)\n",
    "        self.bn1 = nn.BatchNorm2d(32)\n",
    "        self.conv2 = nn.Conv2d(in_channels = 32, out_channels = 64, kernel_size = 3, stride = 1, padding = 1)\n",
    "        self.bn2 = nn.BatchNorm2d(64)\n",
    "        self.conv3 = nn.Conv2d(in_channels = 64, out_channels = 128, kernel_size = 3, stride = 1, padding = 1)\n",
    "        self.bn3 = nn.BatchNorm2d(128)\n",
    "        self.conv4 = nn.Conv2d(in_channels = 128, out_channels = 256, kernel_size = 3, stride = 1, padding = 1)\n",
    "        self.bn4 = nn.BatchNorm2d(256)\n",
    "        self.conv5 = nn.Conv2d(in_channels = 256, out_channels = 512, kernel_size = 3, stride = 1, padding = 1)\n",
    "        self.bn5 = nn.BatchNorm2d(512)\n",
    "        self.conv6 = nn.Conv2d(in_channels = 512, out_channels = 1024, kernel_size = 3, stride = 1, padding = 1)\n",
    "        self.bn6 = nn.BatchNorm2d(1024)\n",
    "        \n",
    "        self.fc1 = nn.Linear(in_features = 1*1*1024, out_features = 1024)\n",
    "        self.fcbn1 = nn.BatchNorm1d(1024)\n",
    "        self.fc2 = nn.Linear(in_features = 1024, out_features = 2)       \n",
    "        self.dropout_rate = 0\n",
    "    \n",
    "\n",
    "    def forward(self,s):\n",
    "        s = self.bn1(self.conv1(s))        # batch_size x 32 x 64 x 64\n",
    "        s = F.tanh(F.max_pool2d(s, 2))     # batch_size x 32 x 32 x 32\n",
    "        s = self.bn2(self.conv2(s))        # batch_size x 64 x 32 x 32\n",
    "        s = F.tanh(F.max_pool2d(s, 2))     # batch_size x 64 x 16 x 16\n",
    "        s = self.bn3(self.conv3(s))        # batch_size x 128 x 16 x 16\n",
    "        s = F.tanh(F.max_pool2d(s, 2))     # batch_size x 128 x 8 x 8\n",
    "        s = self.bn4(self.conv4(s))        # batch_size x 128 x 16 x 16\n",
    "        s = F.tanh(F.max_pool2d(s, 2))     # batch_size x 512 x 4 x 4\n",
    "        s = self.bn5(self.conv5(s))        # batch_size x 128 x 16 x 16\n",
    "        s = F.tanh(F.max_pool2d(s, 2))     # batch_size x 512 x 4 x 4\n",
    "        s = self.bn6(self.conv6(s))        # batch_size x 128 x 16 x 16\n",
    "        s = F.tanh(F.max_pool2d(s, 2))     # batch_size x 512 x 4 x 4\n",
    "        #flatten the output tiap image\n",
    "        s = s.view(-1, 1*1*1024)  # batch_size x 8*8*128\n",
    "\n",
    "        #2 fully connected layers dg dropout\n",
    "        s = F.dropout(F.tanh(self.fcbn1(self.fc1(s))), \n",
    "        p=self.dropout_rate, training=self.training)    # batch_size x  \n",
    "        s = self.fc2(s)                                 # batch_size x 2\n",
    "        \n",
    "        return F.log_softmax(s, dim=1)"
   ]
  },
  {
   "cell_type": "code",
   "execution_count": 10,
   "metadata": {},
   "outputs": [],
   "source": [
    "device = torch.device(\"cuda\" if torch.cuda.is_available() else \"cpu\")\n",
    "classifier = Classifier().to(device)\n",
    "criterion = nn.CrossEntropyLoss()"
   ]
  },
  {
   "cell_type": "code",
   "execution_count": 11,
   "metadata": {},
   "outputs": [],
   "source": [
    "import numpy as np\n",
    "import torch\n",
    "class EarlyStopping:\n",
    "    def __init__(self, patience=7, verbose=False):\n",
    "        self.patience = patience\n",
    "        self.verbose = verbose\n",
    "        self.counter = 0\n",
    "        self.best_score = None\n",
    "        self.early_stop = False\n",
    "        self.val_loss_min = np.Inf\n",
    "\n",
    "    def __call__(self, val_loss, model):\n",
    "        score = -val_loss\n",
    "\n",
    "        if self.best_score is None:\n",
    "            self.best_score = score\n",
    "            self.save_checkpoint(val_loss, model)\n",
    "        elif score < self.best_score:\n",
    "            self.counter += 1\n",
    "            print(f'EarlyStopping counter: {self.counter} out of {self.patience}')\n",
    "            if self.counter >= self.patience:\n",
    "                self.early_stop = True\n",
    "        else:\n",
    "            self.best_score = score\n",
    "            self.save_checkpoint(val_loss, model)\n",
    "            self.counter = 0\n",
    "\n",
    "    def save_checkpoint(self, val_loss, model):\n",
    "        '''Saves model when validation loss decrease.'''\n",
    "        if self.verbose:\n",
    "            print(f'Validation loss decreased ({self.val_loss_min:.6f} --> {val_loss:.6f}).  Saving model ...')\n",
    "        torch.save(model.state_dict(), 'checkpoint.pt')\n",
    "        self.val_loss_min = val_loss"
   ]
  },
  {
   "cell_type": "code",
   "execution_count": 12,
   "metadata": {},
   "outputs": [],
   "source": [
    "def train(model,dataloaders,criterion,num_epochs=1000,lr=0.0001,batch_size=4,patience = None):\n",
    "    since = time.time()\n",
    "    model.to(device)\n",
    "    best_acc = 0.0\n",
    "    i = 0\n",
    "    phase1 = dataloaders.keys()\n",
    "    losses = list()\n",
    "    acc = list()\n",
    "    if(patience!=None):\n",
    "        earlystop = EarlyStopping(patience = patience,verbose = True)\n",
    "    for epoch in range(num_epochs):\n",
    "        print('Epoch:',epoch)\n",
    "        optimizer = optim.Adam(model.parameters(), lr=lr)\n",
    "        #optimizer = optim.SGD(model.parameters(), lr=lr)\n",
    "        lr = lr*0.8\n",
    "        if(epoch%10==0):\n",
    "            lr = 0.0001\n",
    "\n",
    "        for phase in phase1:\n",
    "            if phase == ' train':\n",
    "                model.train()\n",
    "            else:\n",
    "                model.eval()\n",
    "            running_loss = 0.0\n",
    "            running_corrects = 0\n",
    "            total = 0\n",
    "            j = 0\n",
    "            for  batch_idx, (data, target) in enumerate(dataloaders[phase]):\n",
    "                data, target = Variable(data), Variable(target)\n",
    "                #data = data.type(torch.cuda.FloatTensor)\n",
    "                data = data.to(device)\n",
    "                #target = target.type(torch.cuda.LongTensor)\n",
    "                target = target.to(device)\n",
    "                optimizer.zero_grad()\n",
    "                output = model(data)\n",
    "                loss = criterion(output, target)\n",
    "                _, preds = torch.max(output, 1)\n",
    "                running_corrects = running_corrects + torch.sum(preds == target.data)\n",
    "                running_loss += loss.item() * data.size(0)\n",
    "                j = j+1\n",
    "                if(phase =='train'):\n",
    "                    loss.backward()\n",
    "                    optimizer.step()\n",
    "\n",
    "                if batch_idx % 300 == 0:\n",
    "                    print('{} Epoch: {}  [{}/{} ({:.0f}%)]\\tLoss: {:.6f} \\tAcc: {:.6f}'.format(phase,epoch, batch_idx * len(data), len(dataloaders[phase].dataset),100. * batch_idx / len(dataloaders[phase])\n",
    "                                                                                                 , running_loss/(j*batch_size),running_corrects.double()/(j*batch_size)))\n",
    "            epoch_acc = running_corrects.double()/(len(dataloaders[phase])*batch_size)\n",
    "            epoch_loss = running_loss/(len(dataloaders[phase])*batch_size)\n",
    "            if(phase == 'val'):\n",
    "                earlystop(epoch_loss,model)\n",
    "\n",
    "            if(phase == 'train'):\n",
    "                losses.append(epoch_loss)\n",
    "                acc.append(epoch_acc)\n",
    "            print(earlystop.early_stop)\n",
    "        if(earlystop.early_stop):\n",
    "            print(\"Early stopping\")\n",
    "            model.load_state_dict(torch.load('./checkpoint.pt'))\n",
    "            break\n",
    "        print('{} Accuracy: '.format(phase),epoch_acc.item())\n",
    "    return losses,acc"
   ]
  },
  {
   "cell_type": "code",
   "execution_count": 13,
   "metadata": {},
   "outputs": [],
   "source": [
    "def test(dataloader):\n",
    "    running_corrects = 0\n",
    "    running_loss=0\n",
    "    pred = []\n",
    "    true = []\n",
    "    pred_wrong = []\n",
    "    true_wrong = []\n",
    "    image = []\n",
    "    sm = nn.Softmax(dim = 1)\n",
    "    for batch_idx, (data, target) in enumerate(dataloader):\n",
    "        data, target = Variable(data), Variable(target)\n",
    "        #data = data.type(torch.cuda.FloatTensor)\n",
    "        data = data.to(device)\n",
    "        #target = target.type(torch.cuda.LongTensor)\n",
    "        target = target.to(device)\n",
    "        classifier.eval()\n",
    "        output = classifier(data)\n",
    "        loss = criterion(output, target)\n",
    "        output = sm(output)\n",
    "        _, preds = torch.max(output, 1)\n",
    "        running_corrects = running_corrects + torch.sum(preds == target.data)\n",
    "        running_loss += loss.item() * data.size(0)\n",
    "        preds = preds.cpu().numpy()\n",
    "        target = target.cpu().numpy()\n",
    "        preds = np.reshape(preds,(len(preds),1))\n",
    "        target = np.reshape(target,(len(preds),1))\n",
    "        data = data.cpu().numpy()\n",
    "        \n",
    "        for i in range(len(preds)):\n",
    "            pred.append(preds[i])\n",
    "            true.append(target[i])\n",
    "            if(preds[i]!=target[i]):\n",
    "                pred_wrong.append(preds[i])\n",
    "                true_wrong.append(target[i])\n",
    "                image.append(data[i])\n",
    "      \n",
    "    epoch_acc = running_corrects.double()/(len(dataloader)*batch_size)\n",
    "    epoch_loss = running_loss/(len(dataloader)*batch_size)\n",
    "    print(epoch_acc,epoch_loss)\n",
    "    return true,pred,image,true_wrong,pred_wrong"
   ]
  },
  {
   "cell_type": "code",
   "execution_count": 14,
   "metadata": {},
   "outputs": [],
   "source": [
    "def error_plot(loss):\n",
    "    plt.figure(figsize=(10,5))\n",
    "    plt.plot(loss)\n",
    "    plt.title(\"Training loss plot\")\n",
    "    plt.xlabel(\"epochs\")\n",
    "    plt.ylabel(\"Loss\")\n",
    "    plt.show()\n",
    "def acc_plot(acc):\n",
    "    plt.figure(figsize=(10,5))\n",
    "    plt.plot(acc)\n",
    "    plt.title(\"Training accuracy plot\")\n",
    "    plt.xlabel(\"epochs\")\n",
    "    plt.ylabel(\"accuracy\")\n",
    "    plt.show()\n",
    "# To plot the wrong predictions given by model\n",
    "def wrong_plot(n_figures,true,ima,pred,encoder,inv_normalize):\n",
    "    print('Classes in order Actual and Predicted')\n",
    "    n_row = int(n_figures/3)\n",
    "    fig,axes = plt.subplots(figsize=(14, 10), nrows = n_row, ncols=3)\n",
    "    for ax in axes.flatten():\n",
    "        a = random.randint(0,len(true)-1)\n",
    "    \n",
    "        image,correct,wrong = ima[a],true[a],pred[a]\n",
    "        image = torch.from_numpy(image)\n",
    "        correct = int(correct)\n",
    "        c = encoder[correct]\n",
    "        wrong = int(wrong)\n",
    "        w = encoder[wrong]\n",
    "        f = 'A:'+c + ',' +'P:'+w\n",
    "        if inv_normalize !=None:\n",
    "            image = inv_normalize(image)\n",
    "        image = image.numpy().transpose(1,2,0)\n",
    "        im = ax.imshow(image)\n",
    "        ax.set_title(f)\n",
    "        ax.axis('off')\n",
    "    plt.show()\n",
    "def plot_confusion_matrix(y_true, y_pred, classes,\n",
    "                          normalize=False,\n",
    "                          title=None,\n",
    "                          cmap=plt.cm.Blues):\n",
    "    if not title:\n",
    "        if normalize:\n",
    "            title = 'Normalized confusion matrix'\n",
    "        else:\n",
    "            title = 'Confusion matrix, without normalization'\n",
    "\n",
    "    # Compute confusion matrix\n",
    "    cm = metrics.confusion_matrix(y_true, y_pred)\n",
    "    # Only use the labels that appear in the data\n",
    "    if normalize:\n",
    "        cm = cm.astype('float') / cm.sum(axis=1)[:, np.newaxis]\n",
    "        print(\"Normalized confusion matrix\")\n",
    "    else:\n",
    "        print('Confusion matrix')\n",
    "\n",
    "    print(cm)\n",
    "\n",
    "    fig, ax = plt.subplots()\n",
    "    im = ax.imshow(cm, interpolation='nearest', cmap=cmap)\n",
    "    ax.figure.colorbar(im, ax=ax)\n",
    "    # We want to show all ticks...\n",
    "    ax.set(xticks=np.arange(cm.shape[1]),\n",
    "           yticks=np.arange(cm.shape[0]),\n",
    "           # ... and label them with the respective list entries\n",
    "           xticklabels=classes, yticklabels=classes,\n",
    "           title=title,\n",
    "           ylabel='True label',\n",
    "           xlabel='Predicted label')\n",
    "\n",
    "    # Rotate the tick labels and set their alignment.\n",
    "    plt.setp(ax.get_xticklabels(), rotation=45, ha=\"right\",\n",
    "             rotation_mode=\"anchor\")\n",
    "\n",
    "    # Loop over data dimensions and create text annotations.\n",
    "    fmt = '.2f' if normalize else 'd'\n",
    "    thresh = cm.max() / 2.\n",
    "    for i in range(cm.shape[0]):\n",
    "        for j in range(cm.shape[1]):\n",
    "            ax.text(j, i, format(cm[i, j], fmt),\n",
    "                    ha=\"center\", va=\"center\",\n",
    "                    color=\"white\" if cm[i, j] > thresh else \"black\")\n",
    "    fig.tight_layout()\n",
    "    return ax\n",
    "def performance_matrix(true,pred):\n",
    "    precision = metrics.precision_score(true,pred,average='macro')\n",
    "    recall = metrics.recall_score(true,pred,average='macro')\n",
    "    accuracy = metrics.accuracy_score(true,pred)\n",
    "    f1_score = metrics.f1_score(true,pred,average='macro')\n",
    "    print('Precision: {} Recall: {}, Accuracy: {}: ,f1_score: {}'.format(precision*100,recall*100,accuracy*100,f1_score*100))"
   ]
  },
  {
   "cell_type": "code",
   "execution_count": 15,
   "metadata": {},
   "outputs": [],
   "source": [
    "def train_model(model,dataloaders,criterion,num_epochs=1000,lr=0.0001,batch_size=4,patience = None,classes = None):\n",
    "    dataloader_train = {}\n",
    "    losses = list()\n",
    "    accuracy = list()\n",
    "    key = dataloaders.keys()\n",
    "    for phase in key:\n",
    "        if(phase == 'test'):\n",
    "            perform_test = True\n",
    "        else:\n",
    "            dataloader_train.update([(phase,dataloaders[phase])])\n",
    "    losses,accuracy = train(model,dataloader_train,criterion,num_epochs,lr,batch_size,patience)\n",
    "    error_plot(losses)\n",
    "    acc_plot(accuracy)\n",
    "    if(perform_test == True):\n",
    "        true,pred,image,true_wrong,pred_wrong = test(dataloaders['test'])\n",
    "        wrong_plot(12,true_wrong,image,pred_wrong,encoder,inv_normalize)\n",
    "        performance_matrix(true,pred)\n",
    "        if(classes !=None):\n",
    "            plot_confusion_matrix(true, pred, classes= classes,title='Confusion matrix')"
   ]
  },
  {
   "cell_type": "code",
   "execution_count": 16,
   "metadata": {},
   "outputs": [
    {
     "name": "stdout",
     "output_type": "stream",
     "text": [
      "Epoch: 0\n"
     ]
    },
    {
     "name": "stderr",
     "output_type": "stream",
     "text": [
      "C:\\Users\\drimamskom\\Anaconda2\\envs\\opencv36\\lib\\site-packages\\torch\\nn\\functional.py:1374: UserWarning: nn.functional.tanh is deprecated. Use torch.tanh instead.\n",
      "  warnings.warn(\"nn.functional.tanh is deprecated. Use torch.tanh instead.\")\n"
     ]
    },
    {
     "name": "stdout",
     "output_type": "stream",
     "text": [
      "train Epoch: 0  [0/610 (0%)]\tLoss: 0.693253 \tAcc: 0.500000\n",
      "False\n",
      "val Epoch: 0  [0/113 (0%)]\tLoss: 0.699842 \tAcc: 0.500000\n",
      "Validation loss decreased (inf --> 0.637823).  Saving model ...\n",
      "False\n",
      "val Accuracy:  0.4583333333333333\n",
      "Epoch: 1\n",
      "train Epoch: 1  [0/610 (0%)]\tLoss: 0.598068 \tAcc: 1.000000\n",
      "False\n",
      "val Epoch: 1  [0/113 (0%)]\tLoss: 0.603431 \tAcc: 1.000000\n",
      "Validation loss decreased (0.637823 --> 0.607282).  Saving model ...\n",
      "False\n",
      "val Accuracy:  0.5416666666666666\n",
      "Epoch: 2\n",
      "train Epoch: 2  [0/610 (0%)]\tLoss: 0.663496 \tAcc: 0.750000\n",
      "False\n",
      "val Epoch: 2  [0/113 (0%)]\tLoss: 0.728090 \tAcc: 0.750000\n",
      "Validation loss decreased (0.607282 --> 0.541242).  Saving model ...\n",
      "False\n",
      "val Accuracy:  0.625\n",
      "Epoch: 3\n",
      "train Epoch: 3  [0/610 (0%)]\tLoss: 0.556341 \tAcc: 0.750000\n",
      "False\n",
      "val Epoch: 3  [0/113 (0%)]\tLoss: 0.634909 \tAcc: 0.750000\n",
      "Validation loss decreased (0.541242 --> 0.513780).  Saving model ...\n",
      "False\n",
      "val Accuracy:  0.625\n",
      "Epoch: 4\n",
      "train Epoch: 4  [0/610 (0%)]\tLoss: 0.386186 \tAcc: 0.750000\n",
      "False\n",
      "val Epoch: 4  [0/113 (0%)]\tLoss: 0.839437 \tAcc: 0.250000\n",
      "Validation loss decreased (0.513780 --> 0.502662).  Saving model ...\n",
      "False\n",
      "val Accuracy:  0.5833333333333334\n",
      "Epoch: 5\n",
      "train Epoch: 5  [0/610 (0%)]\tLoss: 0.614878 \tAcc: 0.750000\n",
      "False\n",
      "val Epoch: 5  [0/113 (0%)]\tLoss: 0.218859 \tAcc: 0.750000\n",
      "Validation loss decreased (0.502662 --> 0.484883).  Saving model ...\n",
      "False\n",
      "val Accuracy:  0.625\n",
      "Epoch: 6\n",
      "train Epoch: 6  [0/610 (0%)]\tLoss: 0.416404 \tAcc: 0.750000\n",
      "False\n",
      "val Epoch: 6  [0/113 (0%)]\tLoss: 0.420389 \tAcc: 0.750000\n",
      "Validation loss decreased (0.484883 --> 0.417598).  Saving model ...\n",
      "False\n",
      "val Accuracy:  0.7083333333333334\n",
      "Epoch: 7\n",
      "train Epoch: 7  [0/610 (0%)]\tLoss: 0.157830 \tAcc: 1.000000\n",
      "False\n",
      "val Epoch: 7  [0/113 (0%)]\tLoss: 0.188857 \tAcc: 1.000000\n",
      "Validation loss decreased (0.417598 --> 0.413016).  Saving model ...\n",
      "False\n",
      "val Accuracy:  0.7083333333333334\n",
      "Epoch: 8\n",
      "train Epoch: 8  [0/610 (0%)]\tLoss: 0.843020 \tAcc: 0.750000\n",
      "False\n",
      "val Epoch: 8  [0/113 (0%)]\tLoss: 0.709113 \tAcc: 0.500000\n",
      "Validation loss decreased (0.413016 --> 0.386440).  Saving model ...\n",
      "False\n",
      "val Accuracy:  0.7083333333333334\n",
      "Epoch: 9\n",
      "train Epoch: 9  [0/610 (0%)]\tLoss: 0.546909 \tAcc: 0.750000\n",
      "False\n",
      "val Epoch: 9  [0/113 (0%)]\tLoss: 0.637994 \tAcc: 0.500000\n",
      "EarlyStopping counter: 1 out of 2\n",
      "False\n",
      "val Accuracy:  0.7083333333333334\n",
      "Epoch: 10\n",
      "train Epoch: 10  [0/610 (0%)]\tLoss: 0.381131 \tAcc: 0.750000\n",
      "False\n",
      "val Epoch: 10  [0/113 (0%)]\tLoss: 0.167430 \tAcc: 1.000000\n",
      "EarlyStopping counter: 2 out of 2\n",
      "True\n",
      "Early stopping\n"
     ]
    },
    {
     "data": {
      "image/png": "[encoded data removed]",
      "text/plain": [
       "<Figure size 720x360 with 1 Axes>"
      ]
     },
     "metadata": {},
     "output_type": "display_data"
    },
    {
     "data": {
      "image/png": "[encoded data removed]",
      "text/plain": [
       "<Figure size 720x360 with 1 Axes>"
      ]
     },
     "metadata": {},
     "output_type": "display_data"
    },
    {
     "name": "stdout",
     "output_type": "stream",
     "text": [
      "tensor(0.8261, dtype=torch.float64) 0.4141163952324701\n",
      "Classes in order Actual and Predicted\n"
     ]
    },
    {
     "data": {
      "image/png": "[encoded data removed]",
      "text/plain": [
       "<Figure size 1008x720 with 12 Axes>"
      ]
     },
     "metadata": {},
     "output_type": "display_data"
    },
    {
     "name": "stdout",
     "output_type": "stream",
     "text": [
      "Precision: 83.46341463414633 Recall: 83.33333333333333, Accuracy: 83.51648351648352: ,f1_score: 83.38809784592917\n",
      "Confusion matrix\n",
      "[[34  8]\n",
      " [ 7 42]]\n"
     ]
    },
    {
     "data": {
      "image/png": "[encoded data removed]",
      "text/plain": [
       "<Figure size 432x288 with 2 Axes>"
      ]
     },
     "metadata": {},
     "output_type": "display_data"
    }
   ],
   "source": [
    "train_model(classifier,dataloaders,criterion,1000, patience = 2 , batch_size = batch_size , classes = classes)"
   ]
  },
  {
   "cell_type": "code",
   "execution_count": 17,
   "metadata": {},
   "outputs": [],
   "source": [
    "from PIL import Image\n",
    "import numpy as np\n",
    "import cv2\n",
    "def predict(model,image,device,encoder,transforms = None,inv_normalize = None):\n",
    "    #model = torch.load('./model.h5')\n",
    "    model.eval()\n",
    "    if(isinstance(image,np.ndarray)):\n",
    "        image = Image.fromarray(image)\n",
    "    if(transforms!=None):\n",
    "        image = transforms(image)\n",
    "    data = image.expand(1,-1,-1,-1)\n",
    "    data = data.type(torch.FloatTensor).to(device)\n",
    "    sm = nn.Softmax(dim = 1)\n",
    "    output = model(data)\n",
    "    output = sm(output)\n",
    "    _, preds = torch.max(output, 1)\n",
    "    img_plot(image,inv_normalize)\n",
    "    prediction_bar(output,encoder)\n",
    "    return preds\n",
    "\n",
    "def prediction_bar(output,encoder):\n",
    "    output = output.cpu().detach().numpy()\n",
    "    a = output.argsort()\n",
    "    a = a[0]\n",
    "    \n",
    "    size = len(a)\n",
    "    #if(size>5):\n",
    "        #a = np.flip(a[-5:])\n",
    "    #else:\n",
    "        #a = np.flip(a[-1*size:])\n",
    "    prediction = list()\n",
    "    clas = list()\n",
    "    for i in a:\n",
    "        prediction.append(float(output[:,i]*100))\n",
    "        clas.append(str(i))\n",
    "    for i in a:\n",
    "        print('Class: {} , confidence: {}'.format(encoder[int(i)],float(output[:,i]*100)))\n",
    "    plt.bar(clas,prediction)\n",
    "    plt.title(\"Confidence score bar graph\")\n",
    "    plt.xlabel(\"Confidence score\")\n",
    "    plt.ylabel(\"Class number\")\n",
    "\n",
    "def img_plot(image,inv_normalize = None):\n",
    "    if(inv_normalize!=None):\n",
    "        image = inv_normalize(image)\n",
    "    image = image.cpu().numpy().transpose(1,2,0)\n",
    "    plt.imshow(image)\n",
    "    plt.show()"
   ]
  },
  {
   "cell_type": "code",
   "execution_count": 18,
   "metadata": {},
   "outputs": [],
   "source": [
    "image = cv2.imread('E:/klasifikasi/spermatozoa_data/1_0116.jpg')"
   ]
  },
  {
   "cell_type": "code",
   "execution_count": 19,
   "metadata": {},
   "outputs": [
    {
     "name": "stderr",
     "output_type": "stream",
     "text": [
      "C:\\Users\\drimamskom\\Anaconda2\\envs\\opencv36\\lib\\site-packages\\torch\\nn\\functional.py:1374: UserWarning: nn.functional.tanh is deprecated. Use torch.tanh instead.\n",
      "  warnings.warn(\"nn.functional.tanh is deprecated. Use torch.tanh instead.\")\n"
     ]
    },
    {
     "data": {
      "image/png": "[encoded data removed]",
      "text/plain": [
       "<Figure size 432x288 with 1 Axes>"
      ]
     },
     "metadata": {},
     "output_type": "display_data"
    },
    {
     "name": "stdout",
     "output_type": "stream",
     "text": [
      "Class: abnormal , confidence: 30.38446617126465\n",
      "Class: normal , confidence: 69.61553955078125\n"
     ]
    },
    {
     "data": {
      "image/png": "[encoded data removed]",
      "text/plain": [
       "<Figure size 432x288 with 1 Axes>"
      ]
     },
     "metadata": {},
     "output_type": "display_data"
    }
   ],
   "source": [
    "pred = predict(classifier,image,device,encoder,test_transforms,inv_normalize)"
   ]
  },
  {
   "cell_type": "code",
   "execution_count": 20,
   "metadata": {},
   "outputs": [],
   "source": [
    "image = cv2.imread('E:/klasifikasi/spermatozoa_data/1_0030.jpg')"
   ]
  },
  {
   "cell_type": "code",
   "execution_count": 21,
   "metadata": {},
   "outputs": [
    {
     "name": "stderr",
     "output_type": "stream",
     "text": [
      "C:\\Users\\drimamskom\\Anaconda2\\envs\\opencv36\\lib\\site-packages\\torch\\nn\\functional.py:1374: UserWarning: nn.functional.tanh is deprecated. Use torch.tanh instead.\n",
      "  warnings.warn(\"nn.functional.tanh is deprecated. Use torch.tanh instead.\")\n"
     ]
    },
    {
     "data": {
      "image/png": "[encoded data removed]",
      "text/plain": [
       "<Figure size 432x288 with 1 Axes>"
      ]
     },
     "metadata": {},
     "output_type": "display_data"
    },
    {
     "name": "stdout",
     "output_type": "stream",
     "text": [
      "Class: abnormal , confidence: 12.659664154052734\n",
      "Class: normal , confidence: 87.34033966064453\n"
     ]
    },
    {
     "data": {
      "image/png": "[encoded data removed]",
      "text/plain": [
       "<Figure size 432x288 with 1 Axes>"
      ]
     },
     "metadata": {},
     "output_type": "display_data"
    }
   ],
   "source": [
    "pred = predict(classifier,image,device,encoder,test_transforms,inv_normalize)"
   ]
  },
  {
   "cell_type": "code",
   "execution_count": null,
   "metadata": {},
   "outputs": [],
   "source": []
  },
  {
   "cell_type": "code",
   "execution_count": null,
   "metadata": {},
   "outputs": [],
   "source": []
  }
 ],
 "metadata": {
  "kernelspec": {
   "display_name": "Python 3",
   "language": "python",
   "name": "python3"
  },
  "language_info": {
   "codemirror_mode": {
    "name": "ipython",
    "version": 3
   },
   "file_extension": ".py",
   "mimetype": "text/x-python",
   "name": "python",
   "nbconvert_exporter": "python",
   "pygments_lexer": "ipython3",
   "version": "3.6.5"
  }
 },
 "nbformat": 4,
 "nbformat_minor": 2
}
